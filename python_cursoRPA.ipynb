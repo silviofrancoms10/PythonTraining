{
  "nbformat": 4,
  "nbformat_minor": 0,
  "metadata": {
    "colab": {
      "provenance": [],
      "authorship_tag": "ABX9TyMYF5uFViy3zWzseBkwiTUm",
      "include_colab_link": true
    },
    "kernelspec": {
      "name": "python3",
      "display_name": "Python 3"
    },
    "language_info": {
      "name": "python"
    }
  },
  "cells": [
    {
      "cell_type": "markdown",
      "metadata": {
        "id": "view-in-github",
        "colab_type": "text"
      },
      "source": [
        "<a href=\"https://colab.research.google.com/github/silviofrancoms10/PythonTraining/blob/master/python_cursoRPA.ipynb\" target=\"_parent\"><img src=\"https://colab.research.google.com/assets/colab-badge.svg\" alt=\"Open In Colab\"/></a>"
      ]
    },
    {
      "cell_type": "code",
      "source": [
        "anoNasc = int(input(\"Digite um numero: \"))\n",
        "anoAtual = 2024\n",
        "idade = anoAtual - anoNasc\n",
        "print(\"Idade:\\n\",idade)"
      ],
      "metadata": {
        "colab": {
          "base_uri": "https://localhost:8080/"
        },
        "id": "CdwHrs68L89r",
        "outputId": "a4140a7e-1472-49cc-9d9b-e7a5e106e62a"
      },
      "execution_count": null,
      "outputs": [
        {
          "output_type": "stream",
          "name": "stdout",
          "text": [
            "Digite um numero: 10\n",
            "Idade:\n",
            " 2014\n"
          ]
        }
      ]
    },
    {
      "cell_type": "code",
      "source": [
        "#comentário 1 linha\n",
        "\n",
        "\"\"\"\n",
        "Comentário multiplas linhas\n",
        "\"\"\""
      ],
      "metadata": {
        "colab": {
          "base_uri": "https://localhost:8080/",
          "height": 36
        },
        "id": "5GRmsBsGPSo1",
        "outputId": "6502d5f4-5479-49c1-98b8-f6b8524e13f4"
      },
      "execution_count": null,
      "outputs": [
        {
          "output_type": "execute_result",
          "data": {
            "text/plain": [
              "'\\nComentário multiplas linhas\\n'"
            ],
            "application/vnd.google.colaboratory.intrinsic+json": {
              "type": "string"
            }
          },
          "metadata": {},
          "execution_count": 11
        }
      ]
    },
    {
      "cell_type": "code",
      "source": [
        "\"\"\"\n",
        "### Mutabilidade de Tipos em Python\n",
        "\n",
        "Em Python, a mutabilidade de um tipo de dado refere-se à sua capacidade de ser alterado após a criação.\n",
        " Aqui está uma análise dos tipos que você mencionou:\n",
        "\n",
        "1. **int**: Imutável. Uma vez que um objeto do tipo `int` é criado, seu valor não pode ser alterado.\n",
        "\n",
        "2. **float**: Imutável. Similar ao `int`, os objetos do tipo `float` não podem ter seus valores alterados após serem criados.\n",
        "\n",
        "3. **complex**: Imutável. Números complexos em Python também são imutáveis.\n",
        "\n",
        "4. **list**: Mutável. Listas são coleções que podem ser alteradas após a criação. Você pode adicionar, remover\n",
        " ou modificar seus elementos.\n",
        "\n",
        "5. **str**: Imutável. Strings são imutáveis em Python, o que significa que você não pode alterar um caractere\n",
        " específico diretamente.\n",
        "\n",
        "6. **set**: Mutável. Sets são coleções que permitem adição e remoção de elementos.\n",
        "\n",
        "7. **bool**: Imutável. Valores booleanos (`True` e `False`) são imutáveis.\n",
        "\n",
        "8. **tuple**: Imutável. Uma vez criada, uma tupla não pode ter seus elementos alterados.\n",
        "\n",
        "### Sensibilidade a Maiúsculas e Minúsculas (Case Sensitivity)\n",
        "\n",
        "Python é, de fato, uma linguagem sensível a maiúsculas e minúsculas (case sensitive). Isso significa que identificadores\n",
        " como `Variável` e `variável` são considerados distintos. Aqui estão algumas implicações disso:\n",
        "\n",
        "- **Variáveis e Funções**: `meu_valor` e `Meu_Valor` seriam tratadas como duas variáveis distintas.\n",
        "- **Comandos e Palavras-chave**: Por exemplo, `while` é uma palavra-chave válida, mas `While` ou `WHILE` não são.\n",
        "- **Módulos e Importações**: Ao importar módulos ou bibliotecas, você deve usar a capitalização exata usada no nome\n",
        "do módulo.\n",
        "\"\"\""
      ],
      "metadata": {
        "colab": {
          "base_uri": "https://localhost:8080/",
          "height": 258
        },
        "id": "yayDD-Q2PsXD",
        "outputId": "1adce8cb-a2fd-4c2d-eec5-facf0224e705"
      },
      "execution_count": null,
      "outputs": [
        {
          "output_type": "execute_result",
          "data": {
            "text/plain": [
              "'\\n### Mutabilidade de Tipos em Python\\n\\nEm Python, a mutabilidade de um tipo de dado refere-se à sua capacidade de ser alterado após a criação.\\n Aqui está uma análise dos tipos que você mencionou:\\n\\n1. **int**: Imutável. Uma vez que um objeto do tipo `int` é criado, seu valor não pode ser alterado.\\n\\n2. **float**: Imutável. Similar ao `int`, os objetos do tipo `float` não podem ter seus valores alterados após serem criados.\\n\\n3. **complex**: Imutável. Números complexos em Python também são imutáveis.\\n\\n4. **list**: Mutável. Listas são coleções que podem ser alteradas após a criação. Você pode adicionar, remover\\n ou modificar seus elementos.\\n\\n5. **str**: Imutável. Strings são imutáveis em Python, o que significa que você não pode alterar um caractere\\n específico diretamente.\\n\\n6. **set**: Mutável. Sets são coleções que permitem adição e remoção de elementos.\\n\\n7. **bool**: Imutável. Valores booleanos (`True` e `False`) são imutáveis.\\n\\n8. **tuple**: Imutável. Uma vez criada, uma tupla não pode ter seus elementos alterados.\\n\\n### Sensibilidade a Maiúsculas e Minúsculas (Case Sensitivity)\\n\\nPython é, de fato, uma linguagem sensível a maiúsculas e minúsculas (case sensitive). Isso significa que identificadores\\n como `Variável` e `variável` são considerados distintos. Aqui estão algumas implicações disso:\\n\\n- **Variáveis e Funções**: `meu_valor` e `Meu_Valor` seriam tratadas como duas variáveis distintas.\\n- **Comandos e Palavras-chave**: Por exemplo, `while` é uma palavra-chave válida, mas `While` ou `WHILE` não são.\\n- **Módulos e Importações**: Ao importar módulos ou bibliotecas, você deve usar a capitalização exata usada no nome \\ndo módulo.\\n'"
            ],
            "application/vnd.google.colaboratory.intrinsic+json": {
              "type": "string"
            }
          },
          "metadata": {},
          "execution_count": 10
        }
      ]
    },
    {
      "cell_type": "code",
      "source": [
        "inteiro = 42\n",
        "print(inteiro)\n",
        "flutuante = 42.0\n",
        "print(flutuante)\n",
        "complexo = 3 + 4j #numeros complexos, parte real e parte imaginária\n",
        "print(complexo)\n",
        "texto = \"Esse é um texto\"\n",
        "print(texto)\n",
        "lista = [1, 2, 3, 4] #coleção ordenada e mutável\n",
        "print(lista)\n",
        "tupla = (1, 2, 3, 4, 5) #coleção ordenada e imutável\n",
        "print(tupla)\n",
        "conjunto = {1, 2, 3, 3} #coleção não ordenada de itens unicos\n",
        "print(conjunto)\n",
        "dicionario = {\"chave\": \"valor\"}\n",
        "print(dicionario)\n",
        "booleano = True\n",
        "print(booleano)\n",
        "nenhum = None\n",
        "print(nenhum)\n",
        "\n",
        "#descompactando valores de uma lista em variaveis\n",
        "exemplo = \"Texto1\", \"Texto2\", \"Texto3\", \"Texto4\"\n",
        "var1, var2, var3, var4 = exemplo\n",
        "print(var1)\n",
        "print(var2)"
      ],
      "metadata": {
        "colab": {
          "base_uri": "https://localhost:8080/"
        },
        "id": "vESP4T7qQlJ8",
        "outputId": "4cd7fbd4-be46-4bb5-ebdc-8167a3c683f1"
      },
      "execution_count": null,
      "outputs": [
        {
          "output_type": "stream",
          "name": "stdout",
          "text": [
            "42\n",
            "42.0\n",
            "(3+4j)\n",
            "Esse é um texto\n",
            "[1, 2, 3, 4]\n",
            "(1, 2, 3, 4, 5)\n",
            "{1, 2, 3}\n",
            "{'chave': 'valor'}\n",
            "True\n",
            "None\n",
            "Texto1\n",
            "Texto2\n"
          ]
        }
      ]
    },
    {
      "cell_type": "code",
      "source": [
        "import random\n",
        "\n",
        "print(random.randrange(1,6)) #  1 <= x < 6\n",
        "\n",
        "print(random.random())\n",
        "\n",
        "print(random.randint(10,20)) # 10 <= x <= 20, Gera um valor entre 10 e 20, inclusive\n",
        "\n",
        "# Escolher aleatóriamente um elemento de uma lista:\n",
        "frutas = [\"maça\", \"banana\", \"cereja\"]\n",
        "print(random.choice(frutas)) #Escolhe uma fruta aleatoriamente da lista\n",
        "\n",
        "# Embaralhar aleatóriamente uma lista\n",
        "numeros = [1, 2, 3, 4, 5]\n",
        "random.shuffle(numeros)\n",
        "print(numeros)\n",
        "\n",
        "#Gerar um número de ponto flutuante aleatório em um intervalo específico\n",
        "print(random.uniform(5.5, 9.5))"
      ],
      "metadata": {
        "id": "dQkJMjIAT5W5",
        "colab": {
          "base_uri": "https://localhost:8080/"
        },
        "outputId": "f5dce4dc-85fc-4d39-93d2-50e0b0bc925e"
      },
      "execution_count": 1,
      "outputs": [
        {
          "output_type": "stream",
          "name": "stdout",
          "text": [
            "2\n",
            "0.2900992388462934\n",
            "15\n",
            "maça\n",
            "[1, 4, 3, 2, 5]\n",
            "7.782055425790622\n"
          ]
        }
      ]
    },
    {
      "cell_type": "code",
      "source": [
        "# Imprimindo posição das Letras\n",
        "\n",
        "posicaoLetra = \"Python\"\n",
        "print(posicaoLetra[0])\n",
        "print(posicaoLetra[1])\n",
        "print(posicaoLetra[2])\n",
        "print(posicaoLetra[3])\n",
        "print(posicaoLetra[4])"
      ],
      "metadata": {
        "colab": {
          "base_uri": "https://localhost:8080/"
        },
        "id": "iaHhc0MEQyuS",
        "outputId": "b6f8fe39-d19c-4206-ae53-747a3edb97ae"
      },
      "execution_count": null,
      "outputs": [
        {
          "output_type": "stream",
          "name": "stdout",
          "text": [
            "P\n",
            "y\n",
            "t\n",
            "h\n",
            "o\n"
          ]
        }
      ]
    },
    {
      "cell_type": "code",
      "source": [
        "frase = \"Olá, mundo!\"\n",
        "parte = frase[5:10] # vai pegar os caracteres de 5 >= a < 10\n",
        "print(parte)\n",
        "\n",
        "primeiros = frase[:5]\n",
        "print(primeiros)\n",
        "\n",
        "ultimos = frase[-6:]\n",
        "print(ultimos)"
      ],
      "metadata": {
        "colab": {
          "base_uri": "https://localhost:8080/"
        },
        "id": "hzGdsPwbUIZW",
        "outputId": "e1c0b7fe-4e64-4b01-c94b-8b9bcc88f927"
      },
      "execution_count": 2,
      "outputs": [
        {
          "output_type": "stream",
          "name": "stdout",
          "text": [
            "mundo\n",
            "Olá, \n",
            "mundo!\n"
          ]
        }
      ]
    },
    {
      "cell_type": "code",
      "source": [
        "frase = \"O módulo de python é muito legal\"\n",
        "\n",
        "print(\"python\" in frase)"
      ],
      "metadata": {
        "colab": {
          "base_uri": "https://localhost:8080/"
        },
        "id": "xa0UuV7CEdU2",
        "outputId": "640bc271-6fc8-44b6-be99-e84ed1456634"
      },
      "execution_count": 4,
      "outputs": [
        {
          "output_type": "stream",
          "name": "stdout",
          "text": [
            "True\n"
          ]
        }
      ]
    },
    {
      "cell_type": "code",
      "source": [
        "frase = \"O módulo de python é muito legal\"\n",
        "\n",
        "if(\"python\" in frase):\n",
        "  print(\"Sim\")"
      ],
      "metadata": {
        "colab": {
          "base_uri": "https://localhost:8080/"
        },
        "id": "qjSXtS9MFZXz",
        "outputId": "d8c5b44d-2c10-4dbe-de3b-0760828299f2"
      },
      "execution_count": 7,
      "outputs": [
        {
          "output_type": "stream",
          "name": "stdout",
          "text": [
            "Sim\n"
          ]
        }
      ]
    },
    {
      "cell_type": "code",
      "source": [
        "frase = \"              O módulo de python é muito legal             \"\n",
        "\n",
        "print(frase)\n",
        "\n",
        "print(frase.strip()) # remove espaço em branco do inicio e do final semelhante ao trim do java"
      ],
      "metadata": {
        "colab": {
          "base_uri": "https://localhost:8080/"
        },
        "id": "047vjk4yF4B2",
        "outputId": "4dbedc60-a320-405a-b65d-f3dc652c33f5"
      },
      "execution_count": 11,
      "outputs": [
        {
          "output_type": "stream",
          "name": "stdout",
          "text": [
            "              O módulo de python é muito legal             \n",
            "O módulo de python é muito legal\n"
          ]
        }
      ]
    },
    {
      "cell_type": "code",
      "source": [
        "frase = \"Olá, como vai você?\"\n",
        "palavras = frase.split()\n",
        "print(palavras)"
      ],
      "metadata": {
        "colab": {
          "base_uri": "https://localhost:8080/"
        },
        "id": "snQOPqiLGmj3",
        "outputId": "32f4e41f-18c7-4432-b599-2262312ca623"
      },
      "execution_count": 14,
      "outputs": [
        {
          "output_type": "stream",
          "name": "stdout",
          "text": [
            "['Olá,', 'como', 'vai', 'você?']\n"
          ]
        }
      ]
    },
    {
      "cell_type": "code",
      "source": [
        "palavras = ['Olá,', 'como', 'vai', 'você?']\n",
        "frase = ' '.join(palavras) #join junta elementos de uma lista em uma unica string\n",
        "print(frase)"
      ],
      "metadata": {
        "colab": {
          "base_uri": "https://localhost:8080/"
        },
        "id": "z6B-CEHyHQJD",
        "outputId": "82ad384d-aab6-48fd-ae7a-605d89be459b"
      },
      "execution_count": 17,
      "outputs": [
        {
          "output_type": "stream",
          "name": "stdout",
          "text": [
            "Olá, como vai você?\n"
          ]
        }
      ]
    },
    {
      "cell_type": "code",
      "source": [
        "texto = \"******Olá!*******\"\n",
        "textoStrip = texto.strip(\"*\")\n",
        "print(textoStrip)"
      ],
      "metadata": {
        "colab": {
          "base_uri": "https://localhost:8080/"
        },
        "id": "glWGKLJuINq6",
        "outputId": "39eff54e-3294-4267-8bae-7d0978403847"
      },
      "execution_count": 21,
      "outputs": [
        {
          "output_type": "stream",
          "name": "stdout",
          "text": [
            "Olá!\n"
          ]
        }
      ]
    }
  ]
}